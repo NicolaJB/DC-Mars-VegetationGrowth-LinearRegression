{
  "nbformat": 4,
  "nbformat_minor": 0,
  "metadata": {
    "kernelspec": {
      "display_name": "Python 3",
      "language": "python",
      "name": "python3"
    },
    "language_info": {
      "codemirror_mode": {
        "name": "ipython",
        "version": 3
      },
      "file_extension": ".py",
      "mimetype": "text/x-python",
      "name": "python",
      "nbconvert_exporter": "python",
      "pygments_lexer": "ipython3",
      "version": "3.7.3"
    },
    "colab": {
      "provenance": []
    }
  },
  "cells": [
    {
      "cell_type": "markdown",
      "metadata": {
        "id": "FtAmz8b2mQwz"
      },
      "source": [
        "<h1>Future Mars City Vegetation Growth Simulation</h1>\n",
        "1. Import Washington DC incoming solar radiation and leaf area index data<br>\n",
        "2. Apply calculations to simulate vegetation growth during the same time period on a Martian City"
      ]
    },
    {
      "cell_type": "code",
      "metadata": {
        "id": "nNyDxGhoT-_N"
      },
      "source": [
        "import pandas as pd\n",
        "from pandas import DataFrame\n",
        "import matplotlib.pyplot as plt\n",
        "\n",
        "from sklearn.linear_model import LinearRegression"
      ],
      "execution_count": 1,
      "outputs": []
    },
    {
      "cell_type": "code",
      "metadata": {
        "id": "y5HZXhz2O2Iz"
      },
      "source": [
        "pd.options.display.float_format = '{:,.2f}'.format\n",
        "\n",
        "from pandas.plotting import register_matplotlib_converters\n",
        "register_matplotlib_converters()"
      ],
      "execution_count": 2,
      "outputs": []
    },
    {
      "cell_type": "code",
      "metadata": {
        "id": "X2O2YHkfT-_S"
      },
      "source": [
        "# IMPORT WASHINGTON DC DATA FROM CSV\n",
        "data = pd.read_csv('SolarRadiationVsLeafAreaIndex2001-2020.csv')"
      ],
      "execution_count": 3,
      "outputs": []
    },
    {
      "cell_type": "code",
      "metadata": {
        "colab": {
          "base_uri": "https://localhost:8080/",
          "height": 206
        },
        "id": "2sKGUCK1N7KI",
        "outputId": "c8b99f16-10a6-4ad4-8aef-4be633eaf1fd"
      },
      "source": [
        "data.sample(5)"
      ],
      "execution_count": 4,
      "outputs": [
        {
          "output_type": "execute_result",
          "data": {
            "text/plain": [
              "       DATETIME  TIME  Leaf_Area_Index_Dimensionless  \\\n",
              "23   01/12/2002    23                           1.19   \n",
              "224  01/09/2019   224                           1.31   \n",
              "147  01/04/2013   147                           1.11   \n",
              "230  01/03/2020   230                           0.42   \n",
              "35   01/12/2003    35                           0.39   \n",
              "\n",
              "     Incoming_Solar_Radiation_Watts_perSqMtr  \n",
              "23                                     80.29  \n",
              "224                                   195.25  \n",
              "147                                   221.83  \n",
              "230                                   149.83  \n",
              "35                                     89.06  "
            ],
            "text/html": [
              "\n",
              "  <div id=\"df-03c7cdcf-1d6c-4260-846b-4e835f49ddec\" class=\"colab-df-container\">\n",
              "    <div>\n",
              "<style scoped>\n",
              "    .dataframe tbody tr th:only-of-type {\n",
              "        vertical-align: middle;\n",
              "    }\n",
              "\n",
              "    .dataframe tbody tr th {\n",
              "        vertical-align: top;\n",
              "    }\n",
              "\n",
              "    .dataframe thead th {\n",
              "        text-align: right;\n",
              "    }\n",
              "</style>\n",
              "<table border=\"1\" class=\"dataframe\">\n",
              "  <thead>\n",
              "    <tr style=\"text-align: right;\">\n",
              "      <th></th>\n",
              "      <th>DATETIME</th>\n",
              "      <th>TIME</th>\n",
              "      <th>Leaf_Area_Index_Dimensionless</th>\n",
              "      <th>Incoming_Solar_Radiation_Watts_perSqMtr</th>\n",
              "    </tr>\n",
              "  </thead>\n",
              "  <tbody>\n",
              "    <tr>\n",
              "      <th>23</th>\n",
              "      <td>01/12/2002</td>\n",
              "      <td>23</td>\n",
              "      <td>1.19</td>\n",
              "      <td>80.29</td>\n",
              "    </tr>\n",
              "    <tr>\n",
              "      <th>224</th>\n",
              "      <td>01/09/2019</td>\n",
              "      <td>224</td>\n",
              "      <td>1.31</td>\n",
              "      <td>195.25</td>\n",
              "    </tr>\n",
              "    <tr>\n",
              "      <th>147</th>\n",
              "      <td>01/04/2013</td>\n",
              "      <td>147</td>\n",
              "      <td>1.11</td>\n",
              "      <td>221.83</td>\n",
              "    </tr>\n",
              "    <tr>\n",
              "      <th>230</th>\n",
              "      <td>01/03/2020</td>\n",
              "      <td>230</td>\n",
              "      <td>0.42</td>\n",
              "      <td>149.83</td>\n",
              "    </tr>\n",
              "    <tr>\n",
              "      <th>35</th>\n",
              "      <td>01/12/2003</td>\n",
              "      <td>35</td>\n",
              "      <td>0.39</td>\n",
              "      <td>89.06</td>\n",
              "    </tr>\n",
              "  </tbody>\n",
              "</table>\n",
              "</div>\n",
              "    <div class=\"colab-df-buttons\">\n",
              "\n",
              "  <div class=\"colab-df-container\">\n",
              "    <button class=\"colab-df-convert\" onclick=\"convertToInteractive('df-03c7cdcf-1d6c-4260-846b-4e835f49ddec')\"\n",
              "            title=\"Convert this dataframe to an interactive table.\"\n",
              "            style=\"display:none;\">\n",
              "\n",
              "  <svg xmlns=\"http://www.w3.org/2000/svg\" height=\"24px\" viewBox=\"0 -960 960 960\">\n",
              "    <path d=\"M120-120v-720h720v720H120Zm60-500h600v-160H180v160Zm220 220h160v-160H400v160Zm0 220h160v-160H400v160ZM180-400h160v-160H180v160Zm440 0h160v-160H620v160ZM180-180h160v-160H180v160Zm440 0h160v-160H620v160Z\"/>\n",
              "  </svg>\n",
              "    </button>\n",
              "\n",
              "  <style>\n",
              "    .colab-df-container {\n",
              "      display:flex;\n",
              "      gap: 12px;\n",
              "    }\n",
              "\n",
              "    .colab-df-convert {\n",
              "      background-color: #E8F0FE;\n",
              "      border: none;\n",
              "      border-radius: 50%;\n",
              "      cursor: pointer;\n",
              "      display: none;\n",
              "      fill: #1967D2;\n",
              "      height: 32px;\n",
              "      padding: 0 0 0 0;\n",
              "      width: 32px;\n",
              "    }\n",
              "\n",
              "    .colab-df-convert:hover {\n",
              "      background-color: #E2EBFA;\n",
              "      box-shadow: 0px 1px 2px rgba(60, 64, 67, 0.3), 0px 1px 3px 1px rgba(60, 64, 67, 0.15);\n",
              "      fill: #174EA6;\n",
              "    }\n",
              "\n",
              "    .colab-df-buttons div {\n",
              "      margin-bottom: 4px;\n",
              "    }\n",
              "\n",
              "    [theme=dark] .colab-df-convert {\n",
              "      background-color: #3B4455;\n",
              "      fill: #D2E3FC;\n",
              "    }\n",
              "\n",
              "    [theme=dark] .colab-df-convert:hover {\n",
              "      background-color: #434B5C;\n",
              "      box-shadow: 0px 1px 3px 1px rgba(0, 0, 0, 0.15);\n",
              "      filter: drop-shadow(0px 1px 2px rgba(0, 0, 0, 0.3));\n",
              "      fill: #FFFFFF;\n",
              "    }\n",
              "  </style>\n",
              "\n",
              "    <script>\n",
              "      const buttonEl =\n",
              "        document.querySelector('#df-03c7cdcf-1d6c-4260-846b-4e835f49ddec button.colab-df-convert');\n",
              "      buttonEl.style.display =\n",
              "        google.colab.kernel.accessAllowed ? 'block' : 'none';\n",
              "\n",
              "      async function convertToInteractive(key) {\n",
              "        const element = document.querySelector('#df-03c7cdcf-1d6c-4260-846b-4e835f49ddec');\n",
              "        const dataTable =\n",
              "          await google.colab.kernel.invokeFunction('convertToInteractive',\n",
              "                                                    [key], {});\n",
              "        if (!dataTable) return;\n",
              "\n",
              "        const docLinkHtml = 'Like what you see? Visit the ' +\n",
              "          '<a target=\"_blank\" href=https://colab.research.google.com/notebooks/data_table.ipynb>data table notebook</a>'\n",
              "          + ' to learn more about interactive tables.';\n",
              "        element.innerHTML = '';\n",
              "        dataTable['output_type'] = 'display_data';\n",
              "        await google.colab.output.renderOutput(dataTable, element);\n",
              "        const docLink = document.createElement('div');\n",
              "        docLink.innerHTML = docLinkHtml;\n",
              "        element.appendChild(docLink);\n",
              "      }\n",
              "    </script>\n",
              "  </div>\n",
              "\n",
              "\n",
              "<div id=\"df-01ad7f7b-6a60-41ff-bcfd-d096e2f37982\">\n",
              "  <button class=\"colab-df-quickchart\" onclick=\"quickchart('df-01ad7f7b-6a60-41ff-bcfd-d096e2f37982')\"\n",
              "            title=\"Suggest charts\"\n",
              "            style=\"display:none;\">\n",
              "\n",
              "<svg xmlns=\"http://www.w3.org/2000/svg\" height=\"24px\"viewBox=\"0 0 24 24\"\n",
              "     width=\"24px\">\n",
              "    <g>\n",
              "        <path d=\"M19 3H5c-1.1 0-2 .9-2 2v14c0 1.1.9 2 2 2h14c1.1 0 2-.9 2-2V5c0-1.1-.9-2-2-2zM9 17H7v-7h2v7zm4 0h-2V7h2v10zm4 0h-2v-4h2v4z\"/>\n",
              "    </g>\n",
              "</svg>\n",
              "  </button>\n",
              "\n",
              "<style>\n",
              "  .colab-df-quickchart {\n",
              "      --bg-color: #E8F0FE;\n",
              "      --fill-color: #1967D2;\n",
              "      --hover-bg-color: #E2EBFA;\n",
              "      --hover-fill-color: #174EA6;\n",
              "      --disabled-fill-color: #AAA;\n",
              "      --disabled-bg-color: #DDD;\n",
              "  }\n",
              "\n",
              "  [theme=dark] .colab-df-quickchart {\n",
              "      --bg-color: #3B4455;\n",
              "      --fill-color: #D2E3FC;\n",
              "      --hover-bg-color: #434B5C;\n",
              "      --hover-fill-color: #FFFFFF;\n",
              "      --disabled-bg-color: #3B4455;\n",
              "      --disabled-fill-color: #666;\n",
              "  }\n",
              "\n",
              "  .colab-df-quickchart {\n",
              "    background-color: var(--bg-color);\n",
              "    border: none;\n",
              "    border-radius: 50%;\n",
              "    cursor: pointer;\n",
              "    display: none;\n",
              "    fill: var(--fill-color);\n",
              "    height: 32px;\n",
              "    padding: 0;\n",
              "    width: 32px;\n",
              "  }\n",
              "\n",
              "  .colab-df-quickchart:hover {\n",
              "    background-color: var(--hover-bg-color);\n",
              "    box-shadow: 0 1px 2px rgba(60, 64, 67, 0.3), 0 1px 3px 1px rgba(60, 64, 67, 0.15);\n",
              "    fill: var(--button-hover-fill-color);\n",
              "  }\n",
              "\n",
              "  .colab-df-quickchart-complete:disabled,\n",
              "  .colab-df-quickchart-complete:disabled:hover {\n",
              "    background-color: var(--disabled-bg-color);\n",
              "    fill: var(--disabled-fill-color);\n",
              "    box-shadow: none;\n",
              "  }\n",
              "\n",
              "  .colab-df-spinner {\n",
              "    border: 2px solid var(--fill-color);\n",
              "    border-color: transparent;\n",
              "    border-bottom-color: var(--fill-color);\n",
              "    animation:\n",
              "      spin 1s steps(1) infinite;\n",
              "  }\n",
              "\n",
              "  @keyframes spin {\n",
              "    0% {\n",
              "      border-color: transparent;\n",
              "      border-bottom-color: var(--fill-color);\n",
              "      border-left-color: var(--fill-color);\n",
              "    }\n",
              "    20% {\n",
              "      border-color: transparent;\n",
              "      border-left-color: var(--fill-color);\n",
              "      border-top-color: var(--fill-color);\n",
              "    }\n",
              "    30% {\n",
              "      border-color: transparent;\n",
              "      border-left-color: var(--fill-color);\n",
              "      border-top-color: var(--fill-color);\n",
              "      border-right-color: var(--fill-color);\n",
              "    }\n",
              "    40% {\n",
              "      border-color: transparent;\n",
              "      border-right-color: var(--fill-color);\n",
              "      border-top-color: var(--fill-color);\n",
              "    }\n",
              "    60% {\n",
              "      border-color: transparent;\n",
              "      border-right-color: var(--fill-color);\n",
              "    }\n",
              "    80% {\n",
              "      border-color: transparent;\n",
              "      border-right-color: var(--fill-color);\n",
              "      border-bottom-color: var(--fill-color);\n",
              "    }\n",
              "    90% {\n",
              "      border-color: transparent;\n",
              "      border-bottom-color: var(--fill-color);\n",
              "    }\n",
              "  }\n",
              "</style>\n",
              "\n",
              "  <script>\n",
              "    async function quickchart(key) {\n",
              "      const quickchartButtonEl =\n",
              "        document.querySelector('#' + key + ' button');\n",
              "      quickchartButtonEl.disabled = true;  // To prevent multiple clicks.\n",
              "      quickchartButtonEl.classList.add('colab-df-spinner');\n",
              "      try {\n",
              "        const charts = await google.colab.kernel.invokeFunction(\n",
              "            'suggestCharts', [key], {});\n",
              "      } catch (error) {\n",
              "        console.error('Error during call to suggestCharts:', error);\n",
              "      }\n",
              "      quickchartButtonEl.classList.remove('colab-df-spinner');\n",
              "      quickchartButtonEl.classList.add('colab-df-quickchart-complete');\n",
              "    }\n",
              "    (() => {\n",
              "      let quickchartButtonEl =\n",
              "        document.querySelector('#df-01ad7f7b-6a60-41ff-bcfd-d096e2f37982 button');\n",
              "      quickchartButtonEl.style.display =\n",
              "        google.colab.kernel.accessAllowed ? 'block' : 'none';\n",
              "    })();\n",
              "  </script>\n",
              "</div>\n",
              "    </div>\n",
              "  </div>\n"
            ]
          },
          "metadata": {},
          "execution_count": 4
        }
      ]
    },
    {
      "cell_type": "code",
      "metadata": {
        "colab": {
          "base_uri": "https://localhost:8080/"
        },
        "id": "HlJoSUrlODPG",
        "outputId": "1d7cefc2-8404-4473-d544-6836c4d5c6fd"
      },
      "source": [
        "print(f'Any NaN values among the data? {data.isna().values.any()}')"
      ],
      "execution_count": 5,
      "outputs": [
        {
          "output_type": "stream",
          "name": "stdout",
          "text": [
            "Any NaN values among the data? False\n"
          ]
        }
      ]
    },
    {
      "cell_type": "code",
      "metadata": {
        "colab": {
          "base_uri": "https://localhost:8080/"
        },
        "id": "R4L19HGQOIFj",
        "outputId": "1af6345a-80e3-46f4-bb82-3b22d9a3321a"
      },
      "source": [
        "print(f'Any duplicates? {data.duplicated().values.any()}')\n",
        "\n",
        "duplicated_rows = data[data.duplicated()]\n",
        "print(f'Number of duplicates: {len(duplicated_rows)}')"
      ],
      "execution_count": 6,
      "outputs": [
        {
          "output_type": "stream",
          "name": "stdout",
          "text": [
            "Any duplicates? False\n",
            "Number of duplicates: 0\n"
          ]
        }
      ]
    },
    {
      "cell_type": "code",
      "metadata": {
        "colab": {
          "base_uri": "https://localhost:8080/",
          "height": 300
        },
        "id": "w8hGRkj0T-_T",
        "outputId": "290f5d9f-f84a-42e8-b4ff-3ba7f66af181"
      },
      "source": [
        "data.describe()"
      ],
      "execution_count": 7,
      "outputs": [
        {
          "output_type": "execute_result",
          "data": {
            "text/plain": [
              "        TIME  Leaf_Area_Index_Dimensionless  \\\n",
              "count 233.00                         233.00   \n",
              "mean  116.00                           1.53   \n",
              "std    67.41                           1.10   \n",
              "min     0.00                           0.25   \n",
              "25%    58.00                           0.53   \n",
              "50%   116.00                           1.33   \n",
              "75%   174.00                           2.21   \n",
              "max   232.00                           5.01   \n",
              "\n",
              "       Incoming_Solar_Radiation_Watts_perSqMtr  \n",
              "count                                   233.00  \n",
              "mean                                    169.65  \n",
              "std                                      62.74  \n",
              "min                                      63.08  \n",
              "25%                                     109.86  \n",
              "50%                                     172.88  \n",
              "75%                                     227.04  \n",
              "max                                     285.18  "
            ],
            "text/html": [
              "\n",
              "  <div id=\"df-8756a44a-30d2-45d5-b469-612d38e66ea5\" class=\"colab-df-container\">\n",
              "    <div>\n",
              "<style scoped>\n",
              "    .dataframe tbody tr th:only-of-type {\n",
              "        vertical-align: middle;\n",
              "    }\n",
              "\n",
              "    .dataframe tbody tr th {\n",
              "        vertical-align: top;\n",
              "    }\n",
              "\n",
              "    .dataframe thead th {\n",
              "        text-align: right;\n",
              "    }\n",
              "</style>\n",
              "<table border=\"1\" class=\"dataframe\">\n",
              "  <thead>\n",
              "    <tr style=\"text-align: right;\">\n",
              "      <th></th>\n",
              "      <th>TIME</th>\n",
              "      <th>Leaf_Area_Index_Dimensionless</th>\n",
              "      <th>Incoming_Solar_Radiation_Watts_perSqMtr</th>\n",
              "    </tr>\n",
              "  </thead>\n",
              "  <tbody>\n",
              "    <tr>\n",
              "      <th>count</th>\n",
              "      <td>233.00</td>\n",
              "      <td>233.00</td>\n",
              "      <td>233.00</td>\n",
              "    </tr>\n",
              "    <tr>\n",
              "      <th>mean</th>\n",
              "      <td>116.00</td>\n",
              "      <td>1.53</td>\n",
              "      <td>169.65</td>\n",
              "    </tr>\n",
              "    <tr>\n",
              "      <th>std</th>\n",
              "      <td>67.41</td>\n",
              "      <td>1.10</td>\n",
              "      <td>62.74</td>\n",
              "    </tr>\n",
              "    <tr>\n",
              "      <th>min</th>\n",
              "      <td>0.00</td>\n",
              "      <td>0.25</td>\n",
              "      <td>63.08</td>\n",
              "    </tr>\n",
              "    <tr>\n",
              "      <th>25%</th>\n",
              "      <td>58.00</td>\n",
              "      <td>0.53</td>\n",
              "      <td>109.86</td>\n",
              "    </tr>\n",
              "    <tr>\n",
              "      <th>50%</th>\n",
              "      <td>116.00</td>\n",
              "      <td>1.33</td>\n",
              "      <td>172.88</td>\n",
              "    </tr>\n",
              "    <tr>\n",
              "      <th>75%</th>\n",
              "      <td>174.00</td>\n",
              "      <td>2.21</td>\n",
              "      <td>227.04</td>\n",
              "    </tr>\n",
              "    <tr>\n",
              "      <th>max</th>\n",
              "      <td>232.00</td>\n",
              "      <td>5.01</td>\n",
              "      <td>285.18</td>\n",
              "    </tr>\n",
              "  </tbody>\n",
              "</table>\n",
              "</div>\n",
              "    <div class=\"colab-df-buttons\">\n",
              "\n",
              "  <div class=\"colab-df-container\">\n",
              "    <button class=\"colab-df-convert\" onclick=\"convertToInteractive('df-8756a44a-30d2-45d5-b469-612d38e66ea5')\"\n",
              "            title=\"Convert this dataframe to an interactive table.\"\n",
              "            style=\"display:none;\">\n",
              "\n",
              "  <svg xmlns=\"http://www.w3.org/2000/svg\" height=\"24px\" viewBox=\"0 -960 960 960\">\n",
              "    <path d=\"M120-120v-720h720v720H120Zm60-500h600v-160H180v160Zm220 220h160v-160H400v160Zm0 220h160v-160H400v160ZM180-400h160v-160H180v160Zm440 0h160v-160H620v160ZM180-180h160v-160H180v160Zm440 0h160v-160H620v160Z\"/>\n",
              "  </svg>\n",
              "    </button>\n",
              "\n",
              "  <style>\n",
              "    .colab-df-container {\n",
              "      display:flex;\n",
              "      gap: 12px;\n",
              "    }\n",
              "\n",
              "    .colab-df-convert {\n",
              "      background-color: #E8F0FE;\n",
              "      border: none;\n",
              "      border-radius: 50%;\n",
              "      cursor: pointer;\n",
              "      display: none;\n",
              "      fill: #1967D2;\n",
              "      height: 32px;\n",
              "      padding: 0 0 0 0;\n",
              "      width: 32px;\n",
              "    }\n",
              "\n",
              "    .colab-df-convert:hover {\n",
              "      background-color: #E2EBFA;\n",
              "      box-shadow: 0px 1px 2px rgba(60, 64, 67, 0.3), 0px 1px 3px 1px rgba(60, 64, 67, 0.15);\n",
              "      fill: #174EA6;\n",
              "    }\n",
              "\n",
              "    .colab-df-buttons div {\n",
              "      margin-bottom: 4px;\n",
              "    }\n",
              "\n",
              "    [theme=dark] .colab-df-convert {\n",
              "      background-color: #3B4455;\n",
              "      fill: #D2E3FC;\n",
              "    }\n",
              "\n",
              "    [theme=dark] .colab-df-convert:hover {\n",
              "      background-color: #434B5C;\n",
              "      box-shadow: 0px 1px 3px 1px rgba(0, 0, 0, 0.15);\n",
              "      filter: drop-shadow(0px 1px 2px rgba(0, 0, 0, 0.3));\n",
              "      fill: #FFFFFF;\n",
              "    }\n",
              "  </style>\n",
              "\n",
              "    <script>\n",
              "      const buttonEl =\n",
              "        document.querySelector('#df-8756a44a-30d2-45d5-b469-612d38e66ea5 button.colab-df-convert');\n",
              "      buttonEl.style.display =\n",
              "        google.colab.kernel.accessAllowed ? 'block' : 'none';\n",
              "\n",
              "      async function convertToInteractive(key) {\n",
              "        const element = document.querySelector('#df-8756a44a-30d2-45d5-b469-612d38e66ea5');\n",
              "        const dataTable =\n",
              "          await google.colab.kernel.invokeFunction('convertToInteractive',\n",
              "                                                    [key], {});\n",
              "        if (!dataTable) return;\n",
              "\n",
              "        const docLinkHtml = 'Like what you see? Visit the ' +\n",
              "          '<a target=\"_blank\" href=https://colab.research.google.com/notebooks/data_table.ipynb>data table notebook</a>'\n",
              "          + ' to learn more about interactive tables.';\n",
              "        element.innerHTML = '';\n",
              "        dataTable['output_type'] = 'display_data';\n",
              "        await google.colab.output.renderOutput(dataTable, element);\n",
              "        const docLink = document.createElement('div');\n",
              "        docLink.innerHTML = docLinkHtml;\n",
              "        element.appendChild(docLink);\n",
              "      }\n",
              "    </script>\n",
              "  </div>\n",
              "\n",
              "\n",
              "<div id=\"df-920b2189-268a-4632-9830-6ffe489302f3\">\n",
              "  <button class=\"colab-df-quickchart\" onclick=\"quickchart('df-920b2189-268a-4632-9830-6ffe489302f3')\"\n",
              "            title=\"Suggest charts\"\n",
              "            style=\"display:none;\">\n",
              "\n",
              "<svg xmlns=\"http://www.w3.org/2000/svg\" height=\"24px\"viewBox=\"0 0 24 24\"\n",
              "     width=\"24px\">\n",
              "    <g>\n",
              "        <path d=\"M19 3H5c-1.1 0-2 .9-2 2v14c0 1.1.9 2 2 2h14c1.1 0 2-.9 2-2V5c0-1.1-.9-2-2-2zM9 17H7v-7h2v7zm4 0h-2V7h2v10zm4 0h-2v-4h2v4z\"/>\n",
              "    </g>\n",
              "</svg>\n",
              "  </button>\n",
              "\n",
              "<style>\n",
              "  .colab-df-quickchart {\n",
              "      --bg-color: #E8F0FE;\n",
              "      --fill-color: #1967D2;\n",
              "      --hover-bg-color: #E2EBFA;\n",
              "      --hover-fill-color: #174EA6;\n",
              "      --disabled-fill-color: #AAA;\n",
              "      --disabled-bg-color: #DDD;\n",
              "  }\n",
              "\n",
              "  [theme=dark] .colab-df-quickchart {\n",
              "      --bg-color: #3B4455;\n",
              "      --fill-color: #D2E3FC;\n",
              "      --hover-bg-color: #434B5C;\n",
              "      --hover-fill-color: #FFFFFF;\n",
              "      --disabled-bg-color: #3B4455;\n",
              "      --disabled-fill-color: #666;\n",
              "  }\n",
              "\n",
              "  .colab-df-quickchart {\n",
              "    background-color: var(--bg-color);\n",
              "    border: none;\n",
              "    border-radius: 50%;\n",
              "    cursor: pointer;\n",
              "    display: none;\n",
              "    fill: var(--fill-color);\n",
              "    height: 32px;\n",
              "    padding: 0;\n",
              "    width: 32px;\n",
              "  }\n",
              "\n",
              "  .colab-df-quickchart:hover {\n",
              "    background-color: var(--hover-bg-color);\n",
              "    box-shadow: 0 1px 2px rgba(60, 64, 67, 0.3), 0 1px 3px 1px rgba(60, 64, 67, 0.15);\n",
              "    fill: var(--button-hover-fill-color);\n",
              "  }\n",
              "\n",
              "  .colab-df-quickchart-complete:disabled,\n",
              "  .colab-df-quickchart-complete:disabled:hover {\n",
              "    background-color: var(--disabled-bg-color);\n",
              "    fill: var(--disabled-fill-color);\n",
              "    box-shadow: none;\n",
              "  }\n",
              "\n",
              "  .colab-df-spinner {\n",
              "    border: 2px solid var(--fill-color);\n",
              "    border-color: transparent;\n",
              "    border-bottom-color: var(--fill-color);\n",
              "    animation:\n",
              "      spin 1s steps(1) infinite;\n",
              "  }\n",
              "\n",
              "  @keyframes spin {\n",
              "    0% {\n",
              "      border-color: transparent;\n",
              "      border-bottom-color: var(--fill-color);\n",
              "      border-left-color: var(--fill-color);\n",
              "    }\n",
              "    20% {\n",
              "      border-color: transparent;\n",
              "      border-left-color: var(--fill-color);\n",
              "      border-top-color: var(--fill-color);\n",
              "    }\n",
              "    30% {\n",
              "      border-color: transparent;\n",
              "      border-left-color: var(--fill-color);\n",
              "      border-top-color: var(--fill-color);\n",
              "      border-right-color: var(--fill-color);\n",
              "    }\n",
              "    40% {\n",
              "      border-color: transparent;\n",
              "      border-right-color: var(--fill-color);\n",
              "      border-top-color: var(--fill-color);\n",
              "    }\n",
              "    60% {\n",
              "      border-color: transparent;\n",
              "      border-right-color: var(--fill-color);\n",
              "    }\n",
              "    80% {\n",
              "      border-color: transparent;\n",
              "      border-right-color: var(--fill-color);\n",
              "      border-bottom-color: var(--fill-color);\n",
              "    }\n",
              "    90% {\n",
              "      border-color: transparent;\n",
              "      border-bottom-color: var(--fill-color);\n",
              "    }\n",
              "  }\n",
              "</style>\n",
              "\n",
              "  <script>\n",
              "    async function quickchart(key) {\n",
              "      const quickchartButtonEl =\n",
              "        document.querySelector('#' + key + ' button');\n",
              "      quickchartButtonEl.disabled = true;  // To prevent multiple clicks.\n",
              "      quickchartButtonEl.classList.add('colab-df-spinner');\n",
              "      try {\n",
              "        const charts = await google.colab.kernel.invokeFunction(\n",
              "            'suggestCharts', [key], {});\n",
              "      } catch (error) {\n",
              "        console.error('Error during call to suggestCharts:', error);\n",
              "      }\n",
              "      quickchartButtonEl.classList.remove('colab-df-spinner');\n",
              "      quickchartButtonEl.classList.add('colab-df-quickchart-complete');\n",
              "    }\n",
              "    (() => {\n",
              "      let quickchartButtonEl =\n",
              "        document.querySelector('#df-920b2189-268a-4632-9830-6ffe489302f3 button');\n",
              "      quickchartButtonEl.style.display =\n",
              "        google.colab.kernel.accessAllowed ? 'block' : 'none';\n",
              "    })();\n",
              "  </script>\n",
              "</div>\n",
              "    </div>\n",
              "  </div>\n"
            ]
          },
          "metadata": {},
          "execution_count": 7
        }
      ]
    },
    {
      "cell_type": "code",
      "metadata": {
        "colab": {
          "base_uri": "https://localhost:8080/"
        },
        "id": "lCIyVQ3mP7Q2",
        "outputId": "cd4f1b67-d51a-4732-9a02-64fa70fd6dfd"
      },
      "source": [
        "# Show NaN values and data types per column\n",
        "data.info()"
      ],
      "execution_count": 8,
      "outputs": [
        {
          "output_type": "stream",
          "name": "stdout",
          "text": [
            "<class 'pandas.core.frame.DataFrame'>\n",
            "RangeIndex: 233 entries, 0 to 232\n",
            "Data columns (total 4 columns):\n",
            " #   Column                                   Non-Null Count  Dtype  \n",
            "---  ------                                   --------------  -----  \n",
            " 0   DATETIME                                 233 non-null    object \n",
            " 1   TIME                                     233 non-null    int64  \n",
            " 2   Leaf_Area_Index_Dimensionless            233 non-null    float64\n",
            " 3   Incoming_Solar_Radiation_Watts_perSqMtr  233 non-null    float64\n",
            "dtypes: float64(2), int64(1), object(1)\n",
            "memory usage: 7.4+ KB\n"
          ]
        }
      ]
    },
    {
      "cell_type": "code",
      "metadata": {
        "colab": {
          "base_uri": "https://localhost:8080/",
          "height": 206
        },
        "id": "aiISJjA9PhOs",
        "outputId": "2c765d5b-ec64-4417-ed13-99d16ac15b39"
      },
      "source": [
        "data.drop(['TIME'], axis=1, inplace=True)\n",
        "data.head()"
      ],
      "execution_count": 9,
      "outputs": [
        {
          "output_type": "execute_result",
          "data": {
            "text/plain": [
              "     DATETIME  Leaf_Area_Index_Dimensionless  \\\n",
              "0  01/01/2001                           0.33   \n",
              "1  01/02/2001                           0.33   \n",
              "2  01/03/2001                           0.42   \n",
              "3  01/04/2001                           1.52   \n",
              "4  01/05/2001                           4.58   \n",
              "\n",
              "   Incoming_Solar_Radiation_Watts_perSqMtr  \n",
              "0                                    90.67  \n",
              "1                                   129.97  \n",
              "2                                   163.18  \n",
              "3                                   203.81  \n",
              "4                                   230.21  "
            ],
            "text/html": [
              "\n",
              "  <div id=\"df-44ee1d62-afdf-45ba-9dbc-3e6bc3fa0428\" class=\"colab-df-container\">\n",
              "    <div>\n",
              "<style scoped>\n",
              "    .dataframe tbody tr th:only-of-type {\n",
              "        vertical-align: middle;\n",
              "    }\n",
              "\n",
              "    .dataframe tbody tr th {\n",
              "        vertical-align: top;\n",
              "    }\n",
              "\n",
              "    .dataframe thead th {\n",
              "        text-align: right;\n",
              "    }\n",
              "</style>\n",
              "<table border=\"1\" class=\"dataframe\">\n",
              "  <thead>\n",
              "    <tr style=\"text-align: right;\">\n",
              "      <th></th>\n",
              "      <th>DATETIME</th>\n",
              "      <th>Leaf_Area_Index_Dimensionless</th>\n",
              "      <th>Incoming_Solar_Radiation_Watts_perSqMtr</th>\n",
              "    </tr>\n",
              "  </thead>\n",
              "  <tbody>\n",
              "    <tr>\n",
              "      <th>0</th>\n",
              "      <td>01/01/2001</td>\n",
              "      <td>0.33</td>\n",
              "      <td>90.67</td>\n",
              "    </tr>\n",
              "    <tr>\n",
              "      <th>1</th>\n",
              "      <td>01/02/2001</td>\n",
              "      <td>0.33</td>\n",
              "      <td>129.97</td>\n",
              "    </tr>\n",
              "    <tr>\n",
              "      <th>2</th>\n",
              "      <td>01/03/2001</td>\n",
              "      <td>0.42</td>\n",
              "      <td>163.18</td>\n",
              "    </tr>\n",
              "    <tr>\n",
              "      <th>3</th>\n",
              "      <td>01/04/2001</td>\n",
              "      <td>1.52</td>\n",
              "      <td>203.81</td>\n",
              "    </tr>\n",
              "    <tr>\n",
              "      <th>4</th>\n",
              "      <td>01/05/2001</td>\n",
              "      <td>4.58</td>\n",
              "      <td>230.21</td>\n",
              "    </tr>\n",
              "  </tbody>\n",
              "</table>\n",
              "</div>\n",
              "    <div class=\"colab-df-buttons\">\n",
              "\n",
              "  <div class=\"colab-df-container\">\n",
              "    <button class=\"colab-df-convert\" onclick=\"convertToInteractive('df-44ee1d62-afdf-45ba-9dbc-3e6bc3fa0428')\"\n",
              "            title=\"Convert this dataframe to an interactive table.\"\n",
              "            style=\"display:none;\">\n",
              "\n",
              "  <svg xmlns=\"http://www.w3.org/2000/svg\" height=\"24px\" viewBox=\"0 -960 960 960\">\n",
              "    <path d=\"M120-120v-720h720v720H120Zm60-500h600v-160H180v160Zm220 220h160v-160H400v160Zm0 220h160v-160H400v160ZM180-400h160v-160H180v160Zm440 0h160v-160H620v160ZM180-180h160v-160H180v160Zm440 0h160v-160H620v160Z\"/>\n",
              "  </svg>\n",
              "    </button>\n",
              "\n",
              "  <style>\n",
              "    .colab-df-container {\n",
              "      display:flex;\n",
              "      gap: 12px;\n",
              "    }\n",
              "\n",
              "    .colab-df-convert {\n",
              "      background-color: #E8F0FE;\n",
              "      border: none;\n",
              "      border-radius: 50%;\n",
              "      cursor: pointer;\n",
              "      display: none;\n",
              "      fill: #1967D2;\n",
              "      height: 32px;\n",
              "      padding: 0 0 0 0;\n",
              "      width: 32px;\n",
              "    }\n",
              "\n",
              "    .colab-df-convert:hover {\n",
              "      background-color: #E2EBFA;\n",
              "      box-shadow: 0px 1px 2px rgba(60, 64, 67, 0.3), 0px 1px 3px 1px rgba(60, 64, 67, 0.15);\n",
              "      fill: #174EA6;\n",
              "    }\n",
              "\n",
              "    .colab-df-buttons div {\n",
              "      margin-bottom: 4px;\n",
              "    }\n",
              "\n",
              "    [theme=dark] .colab-df-convert {\n",
              "      background-color: #3B4455;\n",
              "      fill: #D2E3FC;\n",
              "    }\n",
              "\n",
              "    [theme=dark] .colab-df-convert:hover {\n",
              "      background-color: #434B5C;\n",
              "      box-shadow: 0px 1px 3px 1px rgba(0, 0, 0, 0.15);\n",
              "      filter: drop-shadow(0px 1px 2px rgba(0, 0, 0, 0.3));\n",
              "      fill: #FFFFFF;\n",
              "    }\n",
              "  </style>\n",
              "\n",
              "    <script>\n",
              "      const buttonEl =\n",
              "        document.querySelector('#df-44ee1d62-afdf-45ba-9dbc-3e6bc3fa0428 button.colab-df-convert');\n",
              "      buttonEl.style.display =\n",
              "        google.colab.kernel.accessAllowed ? 'block' : 'none';\n",
              "\n",
              "      async function convertToInteractive(key) {\n",
              "        const element = document.querySelector('#df-44ee1d62-afdf-45ba-9dbc-3e6bc3fa0428');\n",
              "        const dataTable =\n",
              "          await google.colab.kernel.invokeFunction('convertToInteractive',\n",
              "                                                    [key], {});\n",
              "        if (!dataTable) return;\n",
              "\n",
              "        const docLinkHtml = 'Like what you see? Visit the ' +\n",
              "          '<a target=\"_blank\" href=https://colab.research.google.com/notebooks/data_table.ipynb>data table notebook</a>'\n",
              "          + ' to learn more about interactive tables.';\n",
              "        element.innerHTML = '';\n",
              "        dataTable['output_type'] = 'display_data';\n",
              "        await google.colab.output.renderOutput(dataTable, element);\n",
              "        const docLink = document.createElement('div');\n",
              "        docLink.innerHTML = docLinkHtml;\n",
              "        element.appendChild(docLink);\n",
              "      }\n",
              "    </script>\n",
              "  </div>\n",
              "\n",
              "\n",
              "<div id=\"df-4a9622dd-34dd-41c1-9e05-5b32342bf622\">\n",
              "  <button class=\"colab-df-quickchart\" onclick=\"quickchart('df-4a9622dd-34dd-41c1-9e05-5b32342bf622')\"\n",
              "            title=\"Suggest charts\"\n",
              "            style=\"display:none;\">\n",
              "\n",
              "<svg xmlns=\"http://www.w3.org/2000/svg\" height=\"24px\"viewBox=\"0 0 24 24\"\n",
              "     width=\"24px\">\n",
              "    <g>\n",
              "        <path d=\"M19 3H5c-1.1 0-2 .9-2 2v14c0 1.1.9 2 2 2h14c1.1 0 2-.9 2-2V5c0-1.1-.9-2-2-2zM9 17H7v-7h2v7zm4 0h-2V7h2v10zm4 0h-2v-4h2v4z\"/>\n",
              "    </g>\n",
              "</svg>\n",
              "  </button>\n",
              "\n",
              "<style>\n",
              "  .colab-df-quickchart {\n",
              "      --bg-color: #E8F0FE;\n",
              "      --fill-color: #1967D2;\n",
              "      --hover-bg-color: #E2EBFA;\n",
              "      --hover-fill-color: #174EA6;\n",
              "      --disabled-fill-color: #AAA;\n",
              "      --disabled-bg-color: #DDD;\n",
              "  }\n",
              "\n",
              "  [theme=dark] .colab-df-quickchart {\n",
              "      --bg-color: #3B4455;\n",
              "      --fill-color: #D2E3FC;\n",
              "      --hover-bg-color: #434B5C;\n",
              "      --hover-fill-color: #FFFFFF;\n",
              "      --disabled-bg-color: #3B4455;\n",
              "      --disabled-fill-color: #666;\n",
              "  }\n",
              "\n",
              "  .colab-df-quickchart {\n",
              "    background-color: var(--bg-color);\n",
              "    border: none;\n",
              "    border-radius: 50%;\n",
              "    cursor: pointer;\n",
              "    display: none;\n",
              "    fill: var(--fill-color);\n",
              "    height: 32px;\n",
              "    padding: 0;\n",
              "    width: 32px;\n",
              "  }\n",
              "\n",
              "  .colab-df-quickchart:hover {\n",
              "    background-color: var(--hover-bg-color);\n",
              "    box-shadow: 0 1px 2px rgba(60, 64, 67, 0.3), 0 1px 3px 1px rgba(60, 64, 67, 0.15);\n",
              "    fill: var(--button-hover-fill-color);\n",
              "  }\n",
              "\n",
              "  .colab-df-quickchart-complete:disabled,\n",
              "  .colab-df-quickchart-complete:disabled:hover {\n",
              "    background-color: var(--disabled-bg-color);\n",
              "    fill: var(--disabled-fill-color);\n",
              "    box-shadow: none;\n",
              "  }\n",
              "\n",
              "  .colab-df-spinner {\n",
              "    border: 2px solid var(--fill-color);\n",
              "    border-color: transparent;\n",
              "    border-bottom-color: var(--fill-color);\n",
              "    animation:\n",
              "      spin 1s steps(1) infinite;\n",
              "  }\n",
              "\n",
              "  @keyframes spin {\n",
              "    0% {\n",
              "      border-color: transparent;\n",
              "      border-bottom-color: var(--fill-color);\n",
              "      border-left-color: var(--fill-color);\n",
              "    }\n",
              "    20% {\n",
              "      border-color: transparent;\n",
              "      border-left-color: var(--fill-color);\n",
              "      border-top-color: var(--fill-color);\n",
              "    }\n",
              "    30% {\n",
              "      border-color: transparent;\n",
              "      border-left-color: var(--fill-color);\n",
              "      border-top-color: var(--fill-color);\n",
              "      border-right-color: var(--fill-color);\n",
              "    }\n",
              "    40% {\n",
              "      border-color: transparent;\n",
              "      border-right-color: var(--fill-color);\n",
              "      border-top-color: var(--fill-color);\n",
              "    }\n",
              "    60% {\n",
              "      border-color: transparent;\n",
              "      border-right-color: var(--fill-color);\n",
              "    }\n",
              "    80% {\n",
              "      border-color: transparent;\n",
              "      border-right-color: var(--fill-color);\n",
              "      border-bottom-color: var(--fill-color);\n",
              "    }\n",
              "    90% {\n",
              "      border-color: transparent;\n",
              "      border-bottom-color: var(--fill-color);\n",
              "    }\n",
              "  }\n",
              "</style>\n",
              "\n",
              "  <script>\n",
              "    async function quickchart(key) {\n",
              "      const quickchartButtonEl =\n",
              "        document.querySelector('#' + key + ' button');\n",
              "      quickchartButtonEl.disabled = true;  // To prevent multiple clicks.\n",
              "      quickchartButtonEl.classList.add('colab-df-spinner');\n",
              "      try {\n",
              "        const charts = await google.colab.kernel.invokeFunction(\n",
              "            'suggestCharts', [key], {});\n",
              "      } catch (error) {\n",
              "        console.error('Error during call to suggestCharts:', error);\n",
              "      }\n",
              "      quickchartButtonEl.classList.remove('colab-df-spinner');\n",
              "      quickchartButtonEl.classList.add('colab-df-quickchart-complete');\n",
              "    }\n",
              "    (() => {\n",
              "      let quickchartButtonEl =\n",
              "        document.querySelector('#df-4a9622dd-34dd-41c1-9e05-5b32342bf622 button');\n",
              "      quickchartButtonEl.style.display =\n",
              "        google.colab.kernel.accessAllowed ? 'block' : 'none';\n",
              "    })();\n",
              "  </script>\n",
              "</div>\n",
              "    </div>\n",
              "  </div>\n"
            ]
          },
          "metadata": {},
          "execution_count": 9
        }
      ]
    },
    {
      "cell_type": "code",
      "metadata": {
        "id": "PAIpwzoNPUfU"
      },
      "source": [
        "# Convert DATETIME column to Pandas Datetime data type\n",
        "data.DATETIME = pd.to_datetime(data.DATETIME)"
      ],
      "execution_count": 10,
      "outputs": []
    },
    {
      "cell_type": "code",
      "metadata": {
        "id": "aKQ7FREwT-_U"
      },
      "source": [
        "# Add DC CSV data columns into Dataframe\n",
        "X = DataFrame(data, columns=['Incoming_Solar_Radiation_Watts_perSqMtr'])\n",
        "y = DataFrame(data, columns=['Leaf_Area_Index_Dimensionless'])"
      ],
      "execution_count": 11,
      "outputs": []
    },
    {
      "cell_type": "markdown",
      "metadata": {
        "id": "a90UbCza6c0E"
      },
      "source": [
        "# Mars Simulation:\n",
        "## Apply calculation to lessen sun intensity Mars vegetation would be exposed to\n",
        "\n",
        "Divide vegetation level reading by incoming solar radiation reading to find percentage of growth</br>\n",
        "Multiply the incoming solar radiation readings by 0.431 to reduce exposure as on Mars (round to 6 places)</br>\n",
        "Multiply the percentage growth of each reading by reduced exposure level. to find percentage growth as on Mars (round to 6 places)\n"
      ]
    },
    {
      "cell_type": "code",
      "metadata": {
        "colab": {
          "base_uri": "https://localhost:8080/"
        },
        "id": "-gXz6n2YA26V",
        "outputId": "8bef57b7-c808-469e-b76c-daf235c7e594"
      },
      "source": [
        "#Divide DC veg level readings by DC incoming solar to find growth percentage\n",
        "\n",
        "DC_veg = y['Leaf_Area_Index_Dimensionless'].values\n",
        "DC_solar = X['Incoming_Solar_Radiation_Watts_perSqMtr'].values\n",
        "\n",
        "perc_growth =[] #perc_growth new 1D array to store percentage levels\n",
        "r = 0 #r is each DC solar reading array index\n",
        "for v in DC_veg:\n",
        "  DC_growth = (v / DC_solar[r])\n",
        "  r = r + 1\n",
        "  perc_growth.append(round(DC_growth, 6)) #DC_growth is % growth to solar level\n",
        "\n",
        "print(perc_growth)"
      ],
      "execution_count": 12,
      "outputs": [
        {
          "output_type": "stream",
          "name": "stdout",
          "text": [
            "[0.003596, 0.00251, 0.002593, 0.007446, 0.01988, 0.014991, 0.007474, 0.012652, 0.014966, 0.009344, 0.005699, 0.004735, 0.008494, 0.00525, 0.002616, 0.006302, 0.013009, 0.012931, 0.01254, 0.00378, 0.010834, 0.019016, 0.022677, 0.014821, 0.004675, 0.003303, 0.002465, 0.006573, 0.007329, 0.007985, 0.012073, 0.010496, 0.00922, 0.009355, 0.00871, 0.004337, 0.003415, 0.002235, 0.002628, 0.014224, 0.01386, 0.01268, 0.01136, 0.010555, 0.009933, 0.013184, 0.008603, 0.008962, 0.005442, 0.00268, 0.002639, 0.003831, 0.01616, 0.010341, 0.004488, 0.011825, 0.008463, 0.012789, 0.012294, 0.00334, 0.005337, 0.002619, 0.002258, 0.004364, 0.014276, 0.015411, 0.009893, 0.00968, 0.010897, 0.011022, 0.006741, 0.007994, 0.003773, 0.002788, 0.002173, 0.004552, 0.012981, 0.01304, 0.013015, 0.014957, 0.009678, 0.012515, 0.005691, 0.011995, 0.0039, 0.004137, 0.003091, 0.004542, 0.013488, 0.012339, 0.010583, 0.010633, 0.010037, 0.009621, 0.004939, 0.00631, 0.004895, 0.003136, 0.002426, 0.00602, 0.017479, 0.016166, 0.014733, 0.003325, 0.006981, 0.013701, 0.012948, 0.004917, 0.004525, 0.003568, 0.002592, 0.009439, 0.014768, 0.013326, 0.01412, 0.010268, 0.010821, 0.009395, 0.0156, 0.004374, 0.004373, 0.003306, 0.002552, 0.004755, 0.021845, 0.013613, 0.009205, 0.01088, 0.013915, 0.011272, 0.011996, 0.007961, 0.006945, 0.004567, 0.004405, 0.004497, 0.014361, 0.006911, 0.012727, 0.007931, 0.007501, 0.01344, 0.005947, 0.006573, 0.00605, 0.004371, 0.002451, 0.004991, 0.016035, 0.015568, 0.01087, 0.009042, 0.008188, 0.012359, 0.007224, 0.008458, 0.005158, 0.00289, 0.003051, 0.003281, 0.014181, 0.00515, 0.014908, 0.011675, 0.005112, 0.010333, 0.005733, 0.007441, 0.004881, 0.00259, 0.001604, 0.006608, 0.011653, 0.01585, 0.010568, 0.008285, 0.00834, 0.01028, 0.006913, 0.008656, 0.006585, 0.003336, 0.00469, 0.003643, 0.014801, 0.011534, 0.009522, 0.00894, 0.011505, 0.009316, 0.006137, 0.0074, 0.005461, 0.00363, 0.002933, 0.003321, 0.011607, 0.010383, 0.00835, 0.008178, 0.007926, 0.009747, 0.013654, 0.007032, 0.004124, 0.004707, 0.005563, 0.003157, 0.005967, 0.009508, 0.008419, 0.007582, 0.012923, 0.009707, 0.009205, 0.010809, 0.005959, 0.004047, 0.002015, 0.0081, 0.011052, 0.009868, 0.00777, 0.007945, 0.006687, 0.010424, 0.018479, 0.00427, 0.010133, 0.010744, 0.002774, 0.006663, 0.00903]\n"
          ]
        }
      ]
    },
    {
      "cell_type": "code",
      "metadata": {
        "colab": {
          "base_uri": "https://localhost:8080/"
        },
        "id": "YPbTnJZOJZu7",
        "outputId": "0f4a8e8b-d7c9-4d2d-9f2c-0ea8f37b4b68"
      },
      "source": [
        "#Multiply incoming solar readings by 0.431 to reduce exposure as on Mars\n",
        "\n",
        "Mars_solar = [] #new replacement 1D X array is Mars_solar\n",
        "for s in DC_solar:\n",
        "  Mars_exp = s * 0.431\n",
        "  Mars_solar.append(round(Mars_exp, 6))\n",
        "\n",
        "print(Mars_solar)"
      ],
      "execution_count": 14,
      "outputs": [
        {
          "output_type": "stream",
          "name": "stdout",
          "text": [
            "[39.080839, 56.018363, 70.328856, 87.840817, 99.220941, 113.329295, 111.965611, 97.7939, 85.815548, 74.68368, 50.373125, 38.044111, 39.556102, 62.013573, 66.467527, 90.902641, 113.059489, 116.392843, 104.298552, 97.928803, 81.930083, 44.503767, 37.339383, 34.605335, 38.105831, 40.479606, 66.824395, 80.870254, 68.213508, 94.800605, 101.676348, 90.073828, 74.543174, 61.949785, 43.809857, 38.386627, 39.261773, 59.0039, 69.198774, 83.710113, 104.746792, 100.613071, 96.905178, 91.529315, 69.569003, 55.79295, 42.465482, 37.045614, 35.026249, 52.39236, 63.43458, 89.115715, 97.852947, 111.037237, 100.607037, 94.193326, 89.888067, 52.420806, 45.70324, 36.139091, 36.61845, 57.078192, 81.384006, 92.801196, 104.208904, 103.546457, 107.594409, 102.136656, 67.111441, 60.247335, 40.372675, 38.399988, 37.422739, 56.357129, 77.454579, 80.894821, 110.974311, 108.408999, 106.478981, 92.929634, 93.514501, 62.876866, 44.211118, 27.186661, 41.709292, 47.350953, 75.492667, 79.068243, 101.175957, 122.910425, 110.009302, 98.442124, 76.596889, 66.54209, 38.821161, 30.735472, 39.928443, 61.406725, 64.722408, 83.058872, 90.825061, 101.417748, 104.505432, 94.062733, 74.700058, 53.25867, 36.984713, 34.554218, 42.388247, 51.944982, 69.146192, 103.587833, 99.942866, 116.608774, 116.047181, 92.827918, 87.845989, 63.001856, 48.182352, 36.689177, 35.981949, 55.274026, 68.040677, 78.725598, 98.810198, 112.481087, 117.455689, 95.529857, 61.018825, 56.024397, 44.371019, 35.160635, 40.555635, 57.769947, 75.340093, 94.513559, 103.467584, 117.72334, 106.739736, 97.084905, 83.920441, 53.256084, 46.87556, 31.366197, 35.833124, 48.976254, 66.805431, 95.609592, 105.668701, 98.458933, 103.749027, 87.687381, 91.222874, 54.132738, 44.367571, 31.214141, 44.521869, 53.650018, 63.975054, 90.145374, 104.567927, 119.121073, 111.43505, 91.05306, 76.979186, 57.317828, 43.731846, 29.54005, 36.232662, 55.743385, 68.040246, 92.205123, 114.608503, 101.247934, 101.351805, 102.088815, 78.535527, 60.035283, 43.152582, 29.428206, 42.892387, 50.092544, 71.465834, 93.527, 81.160748, 117.186745, 112.894847, 104.882557, 71.984758, 64.348731, 48.165543, 34.051327, 30.13677, 54.832251, 77.292092, 88.340346, 91.518109, 118.68447, 107.253057, 97.547799, 82.953708, 64.12418, 44.868824, 33.753808, 42.280626, 40.374097, 70.467207, 87.521446, 98.096893, 104.454143, 107.834907, 99.312313, 60.887801, 59.037949, 39.410511, 31.782112, 34.357337, 48.512067, 74.513004, 88.868321, 104.537326, 116.163551, 118.726708, 99.837702, 84.153181, 57.165254, 45.715308, 32.403614, 37.329126, 48.987029, 64.575868, 83.135159, 94.986366]\n"
          ]
        }
      ]
    },
    {
      "cell_type": "code",
      "metadata": {
        "colab": {
          "base_uri": "https://localhost:8080/"
        },
        "id": "dOq0zxEMLcl0",
        "outputId": "fc6153e9-053a-498c-d76b-d443cc17d7d8"
      },
      "source": [
        "#Multiply each percent growth by Mars solar equiv to find Mars growth readings\n",
        "\n",
        "Mars_veg = [] #new replacement 1D X array is Mars_veg (Mars vegetation)\n",
        "m = 0 #m is each new Mars solar reading array index\n",
        "for p in perc_growth:\n",
        "  mars_growth = p * Mars_solar[m]\n",
        "  m = m + 1\n",
        "  Mars_veg.append(round(mars_growth, 6))\n",
        "\n",
        "print(Mars_veg)"
      ],
      "execution_count": 15,
      "outputs": [
        {
          "output_type": "stream",
          "name": "stdout",
          "text": [
            "[0.140535, 0.140606, 0.182363, 0.654063, 1.972512, 1.698919, 0.836831, 1.237288, 1.284315, 0.697844, 0.287076, 0.180139, 0.33599, 0.325571, 0.173879, 0.572868, 1.470791, 1.505076, 1.307904, 0.370171, 0.887631, 0.846284, 0.846745, 0.512886, 0.178145, 0.133704, 0.164722, 0.53156, 0.499937, 0.756983, 1.227539, 0.945415, 0.687288, 0.57954, 0.381584, 0.166483, 0.134079, 0.131874, 0.181854, 1.190693, 1.451791, 1.275774, 1.100843, 0.966092, 0.691029, 0.735574, 0.365331, 0.332003, 0.190613, 0.140412, 0.167404, 0.341402, 1.581304, 1.148236, 0.451524, 1.113836, 0.760723, 0.67041, 0.561876, 0.120705, 0.195433, 0.149488, 0.183765, 0.404984, 1.487686, 1.595754, 1.064431, 0.988683, 0.731313, 0.664046, 0.272152, 0.30697, 0.141196, 0.157124, 0.168309, 0.368233, 1.440558, 1.413653, 1.385824, 1.389949, 0.905033, 0.786904, 0.251605, 0.326104, 0.162666, 0.195891, 0.233348, 0.359128, 1.364661, 1.516592, 1.164228, 1.046735, 0.768803, 0.640201, 0.191738, 0.193941, 0.19545, 0.192571, 0.157017, 0.500014, 1.587531, 1.639519, 1.539679, 0.312759, 0.521481, 0.729697, 0.478878, 0.169903, 0.191807, 0.18534, 0.179227, 0.977766, 1.475956, 1.553929, 1.638586, 0.953157, 0.950581, 0.591902, 0.751645, 0.160478, 0.157349, 0.182736, 0.17364, 0.37434, 2.158509, 1.531205, 1.08118, 1.039365, 0.849077, 0.631507, 0.532275, 0.279914, 0.281659, 0.263835, 0.331873, 0.425027, 1.485898, 0.813586, 1.358477, 0.76998, 0.629487, 0.715762, 0.278769, 0.20617, 0.21679, 0.214075, 0.16374, 0.477187, 1.694398, 1.532809, 1.127752, 0.792869, 0.746933, 0.669027, 0.320511, 0.264009, 0.229644, 0.155049, 0.195188, 0.295767, 1.482878, 0.613474, 1.661274, 1.063044, 0.393518, 0.592265, 0.250715, 0.219808, 0.176852, 0.144375, 0.109137, 0.609291, 1.335533, 1.60478, 1.071086, 0.845806, 0.654986, 0.617163, 0.298314, 0.254731, 0.282446, 0.167109, 0.335175, 0.340719, 1.20126, 1.351632, 1.074985, 0.93765, 0.828185, 0.599473, 0.295592, 0.25198, 0.164577, 0.199041, 0.226698, 0.293378, 1.062251, 1.232301, 0.895563, 0.797746, 0.657491, 0.625018, 0.612639, 0.237357, 0.174365, 0.190041, 0.392009, 0.276305, 0.585344, 0.99315, 0.907862, 0.752986, 0.786853, 0.573081, 0.362774, 0.343533, 0.204735, 0.196328, 0.150144, 0.719833, 1.155347, 1.146302, 0.922507, 0.793211, 0.562732, 0.595891, 0.844773, 0.138363, 0.378256, 0.526317, 0.179133, 0.55393, 0.857727]\n"
          ]
        }
      ]
    },
    {
      "cell_type": "code",
      "metadata": {
        "colab": {
          "base_uri": "https://localhost:8080/"
        },
        "id": "TKtuKoCdRww6",
        "outputId": "de0b6498-3fa2-41b8-d013-49dc4827797e"
      },
      "source": [
        "#Assign Dataframe columns using appropriately named machine learning variables\n",
        "DC_X = DataFrame(data, columns=['Incoming_Solar_Radiation_Watts_perSqMtr'])\n",
        "DC_y = DataFrame(data, columns=['Leaf_Area_Index_Dimensionless'])\n",
        "\n",
        "Mars_X = DataFrame(Mars_solar, columns=['Mars_solar'])\n",
        "Mars_y = DataFrame(Mars_veg, columns=['Mars_veg'])\n",
        "\n",
        "#COMPARE DC SOLAR TO MARS SOLAR\n",
        "print(DC_X)\n",
        "print(Mars_X)\n",
        "#COMPARE DC VEGETATION TO MARS VEGETATION\n",
        "print(DC_y)\n",
        "print(Mars_y)"
      ],
      "execution_count": 16,
      "outputs": [
        {
          "output_type": "stream",
          "name": "stdout",
          "text": [
            "     Incoming_Solar_Radiation_Watts_perSqMtr\n",
            "0                                      90.67\n",
            "1                                     129.97\n",
            "2                                     163.18\n",
            "3                                     203.81\n",
            "4                                     230.21\n",
            "..                                       ...\n",
            "228                                    86.61\n",
            "229                                   113.66\n",
            "230                                   149.83\n",
            "231                                   192.89\n",
            "232                                   220.39\n",
            "\n",
            "[233 rows x 1 columns]\n",
            "     Mars_solar\n",
            "0         39.08\n",
            "1         56.02\n",
            "2         70.33\n",
            "3         87.84\n",
            "4         99.22\n",
            "..          ...\n",
            "228       37.33\n",
            "229       48.99\n",
            "230       64.58\n",
            "231       83.14\n",
            "232       94.99\n",
            "\n",
            "[233 rows x 1 columns]\n",
            "     Leaf_Area_Index_Dimensionless\n",
            "0                             0.33\n",
            "1                             0.33\n",
            "2                             0.42\n",
            "3                             1.52\n",
            "4                             4.58\n",
            "..                             ...\n",
            "228                           0.88\n",
            "229                           1.22\n",
            "230                           0.42\n",
            "231                           1.29\n",
            "232                           1.99\n",
            "\n",
            "[233 rows x 1 columns]\n",
            "     Mars_veg\n",
            "0        0.14\n",
            "1        0.14\n",
            "2        0.18\n",
            "3        0.65\n",
            "4        1.97\n",
            "..        ...\n",
            "228      0.38\n",
            "229      0.53\n",
            "230      0.18\n",
            "231      0.55\n",
            "232      0.86\n",
            "\n",
            "[233 rows x 1 columns]\n"
          ]
        }
      ]
    },
    {
      "cell_type": "code",
      "metadata": {
        "colab": {
          "base_uri": "https://localhost:8080/",
          "height": 564
        },
        "id": "RIpdNSAPT-_V",
        "outputId": "76db9e14-b528-417b-cbf5-18909e23de1b"
      },
      "source": [
        "#Create scatterplot for new Mars-generated data\n",
        "plt.figure(figsize=(10,6))\n",
        "plt.scatter(Mars_X, Mars_y, alpha=0.3)\n",
        "plt.title('Mars City Solar Radiation Vs Surface Leaf Area Index')\n",
        "plt.xlabel('Monthly Mars City Incoming Solar Radiation')\n",
        "plt.ylabel('Monthly Mars City Leaf Area Index')\n",
        "\n",
        "#Show Mars data to scale inside identical Washington DC chart size\n",
        "plt.xlim(0, 300)\n",
        "plt.ylim(0, 5)\n",
        "plt.show()"
      ],
      "execution_count": 17,
      "outputs": [
        {
          "output_type": "display_data",
          "data": {
            "text/plain": [
              "<Figure size 1000x600 with 1 Axes>"
            ],
            "image/png": "[encoded data removed]"
          },
          "metadata": {}
        }
      ]
    },
    {
      "cell_type": "markdown",
      "metadata": {
        "id": "vITBrDsFok9l"
      },
      "source": [
        "Calculate Mars version linear regression for vegetation growth impacted by Martian solar radiation:"
      ]
    },
    {
      "cell_type": "code",
      "metadata": {
        "colab": {
          "base_uri": "https://localhost:8080/",
          "height": 75
        },
        "id": "QKZGAW-yT-_V",
        "outputId": "3db4cae2-48d5-4a1d-c74b-a578b2d2a7ad"
      },
      "source": [
        "regression = LinearRegression()\n",
        "regression.fit(Mars_X, Mars_y)"
      ],
      "execution_count": 18,
      "outputs": [
        {
          "output_type": "execute_result",
          "data": {
            "text/plain": [
              "LinearRegression()"
            ],
            "text/html": [
              "<style>#sk-container-id-1 {color: black;background-color: white;}#sk-container-id-1 pre{padding: 0;}#sk-container-id-1 div.sk-toggleable {background-color: white;}#sk-container-id-1 label.sk-toggleable__label {cursor: pointer;display: block;width: 100%;margin-bottom: 0;padding: 0.3em;box-sizing: border-box;text-align: center;}#sk-container-id-1 label.sk-toggleable__label-arrow:before {content: \"▸\";float: left;margin-right: 0.25em;color: #696969;}#sk-container-id-1 label.sk-toggleable__label-arrow:hover:before {color: black;}#sk-container-id-1 div.sk-estimator:hover label.sk-toggleable__label-arrow:before {color: black;}#sk-container-id-1 div.sk-toggleable__content {max-height: 0;max-width: 0;overflow: hidden;text-align: left;background-color: #f0f8ff;}#sk-container-id-1 div.sk-toggleable__content pre {margin: 0.2em;color: black;border-radius: 0.25em;background-color: #f0f8ff;}#sk-container-id-1 input.sk-toggleable__control:checked~div.sk-toggleable__content {max-height: 200px;max-width: 100%;overflow: auto;}#sk-container-id-1 input.sk-toggleable__control:checked~label.sk-toggleable__label-arrow:before {content: \"▾\";}#sk-container-id-1 div.sk-estimator input.sk-toggleable__control:checked~label.sk-toggleable__label {background-color: #d4ebff;}#sk-container-id-1 div.sk-label input.sk-toggleable__control:checked~label.sk-toggleable__label {background-color: #d4ebff;}#sk-container-id-1 input.sk-hidden--visually {border: 0;clip: rect(1px 1px 1px 1px);clip: rect(1px, 1px, 1px, 1px);height: 1px;margin: -1px;overflow: hidden;padding: 0;position: absolute;width: 1px;}#sk-container-id-1 div.sk-estimator {font-family: monospace;background-color: #f0f8ff;border: 1px dotted black;border-radius: 0.25em;box-sizing: border-box;margin-bottom: 0.5em;}#sk-container-id-1 div.sk-estimator:hover {background-color: #d4ebff;}#sk-container-id-1 div.sk-parallel-item::after {content: \"\";width: 100%;border-bottom: 1px solid gray;flex-grow: 1;}#sk-container-id-1 div.sk-label:hover label.sk-toggleable__label {background-color: #d4ebff;}#sk-container-id-1 div.sk-serial::before {content: \"\";position: absolute;border-left: 1px solid gray;box-sizing: border-box;top: 0;bottom: 0;left: 50%;z-index: 0;}#sk-container-id-1 div.sk-serial {display: flex;flex-direction: column;align-items: center;background-color: white;padding-right: 0.2em;padding-left: 0.2em;position: relative;}#sk-container-id-1 div.sk-item {position: relative;z-index: 1;}#sk-container-id-1 div.sk-parallel {display: flex;align-items: stretch;justify-content: center;background-color: white;position: relative;}#sk-container-id-1 div.sk-item::before, #sk-container-id-1 div.sk-parallel-item::before {content: \"\";position: absolute;border-left: 1px solid gray;box-sizing: border-box;top: 0;bottom: 0;left: 50%;z-index: -1;}#sk-container-id-1 div.sk-parallel-item {display: flex;flex-direction: column;z-index: 1;position: relative;background-color: white;}#sk-container-id-1 div.sk-parallel-item:first-child::after {align-self: flex-end;width: 50%;}#sk-container-id-1 div.sk-parallel-item:last-child::after {align-self: flex-start;width: 50%;}#sk-container-id-1 div.sk-parallel-item:only-child::after {width: 0;}#sk-container-id-1 div.sk-dashed-wrapped {border: 1px dashed gray;margin: 0 0.4em 0.5em 0.4em;box-sizing: border-box;padding-bottom: 0.4em;background-color: white;}#sk-container-id-1 div.sk-label label {font-family: monospace;font-weight: bold;display: inline-block;line-height: 1.2em;}#sk-container-id-1 div.sk-label-container {text-align: center;}#sk-container-id-1 div.sk-container {/* jupyter's `normalize.less` sets `[hidden] { display: none; }` but bootstrap.min.css set `[hidden] { display: none !important; }` so we also need the `!important` here to be able to override the default hidden behavior on the sphinx rendered scikit-learn.org. See: https://github.com/scikit-learn/scikit-learn/issues/21755 */display: inline-block !important;position: relative;}#sk-container-id-1 div.sk-text-repr-fallback {display: none;}</style><div id=\"sk-container-id-1\" class=\"sk-top-container\"><div class=\"sk-text-repr-fallback\"><pre>LinearRegression()</pre><b>In a Jupyter environment, please rerun this cell to show the HTML representation or trust the notebook. <br />On GitHub, the HTML representation is unable to render, please try loading this page with nbviewer.org.</b></div><div class=\"sk-container\" hidden><div class=\"sk-item\"><div class=\"sk-estimator sk-toggleable\"><input class=\"sk-toggleable__control sk-hidden--visually\" id=\"sk-estimator-id-1\" type=\"checkbox\" checked><label for=\"sk-estimator-id-1\" class=\"sk-toggleable__label sk-toggleable__label-arrow\">LinearRegression</label><div class=\"sk-toggleable__content\"><pre>LinearRegression()</pre></div></div></div></div></div>"
            ]
          },
          "metadata": {},
          "execution_count": 18
        }
      ]
    },
    {
      "cell_type": "markdown",
      "metadata": {
        "id": "zkXEP81sT-_V"
      },
      "source": [
        "Slope coefficient:"
      ]
    },
    {
      "cell_type": "code",
      "metadata": {
        "colab": {
          "base_uri": "https://localhost:8080/"
        },
        "id": "bcuprVslT-_W",
        "outputId": "68a64569-22f5-449b-cc02-0385cff0f013"
      },
      "source": [
        "regression.coef_    # theta_1"
      ],
      "execution_count": 19,
      "outputs": [
        {
          "output_type": "execute_result",
          "data": {
            "text/plain": [
              "array([[0.01317249]])"
            ]
          },
          "metadata": {},
          "execution_count": 19
        }
      ]
    },
    {
      "cell_type": "code",
      "metadata": {
        "colab": {
          "base_uri": "https://localhost:8080/"
        },
        "id": "quIAHlaYT-_W",
        "outputId": "da4fbc54-7081-4663-80a5-c42b19f7aab4"
      },
      "source": [
        "#Intercept\n",
        "regression.intercept_"
      ],
      "execution_count": 20,
      "outputs": [
        {
          "output_type": "execute_result",
          "data": {
            "text/plain": [
              "array([-0.30497496])"
            ]
          },
          "metadata": {},
          "execution_count": 20
        }
      ]
    },
    {
      "cell_type": "code",
      "metadata": {
        "colab": {
          "base_uri": "https://localhost:8080/",
          "height": 564
        },
        "id": "0wYRMB8xT-_W",
        "outputId": "bb99b54d-1b8c-43c5-8266-5b89cdce199f"
      },
      "source": [
        "# Plot resulting Mars verson linear regression:\n",
        "plt.figure(figsize=(10,6))\n",
        "plt.scatter(Mars_X, Mars_y, alpha=0.3)\n",
        "\n",
        "# Adding the regression line here:\n",
        "plt.plot(Mars_X, regression.predict(Mars_X), color='red', linewidth=3)\n",
        "\n",
        "plt.title('Mars City Solar Radiation Vs Surface Leaf Area Index')\n",
        "plt.xlabel('Monthly Mars City Incoming Solar Radiation')\n",
        "plt.ylabel('Monthly Mars City Leaf Area Index')\n",
        "\n",
        "# SHOW TO SCALE WITH DC LINEAR REGRESSION\n",
        "plt.xlim(0, 350)\n",
        "plt.ylim(0, 6)\n",
        "plt.show()"
      ],
      "execution_count": 21,
      "outputs": [
        {
          "output_type": "display_data",
          "data": {
            "text/plain": [
              "<Figure size 1000x600 with 1 Axes>"
            ],
            "image/png": "[encoded data removed]"
          },
          "metadata": {}
        }
      ]
    },
    {
      "cell_type": "code",
      "metadata": {
        "colab": {
          "base_uri": "https://localhost:8080/"
        },
        "id": "XYVzqe2uT-_X",
        "outputId": "89516346-35d4-4db1-e27f-652be9a4887c"
      },
      "source": [
        "#Getting r square from Regression\n",
        "regression.score(Mars_X, Mars_y)"
      ],
      "execution_count": 22,
      "outputs": [
        {
          "output_type": "execute_result",
          "data": {
            "text/plain": [
              "0.5678209093011701"
            ]
          },
          "metadata": {},
          "execution_count": 22
        }
      ]
    }
  ]
}